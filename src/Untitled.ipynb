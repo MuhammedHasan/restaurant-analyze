{
 "cells": [
  {
   "cell_type": "markdown",
   "metadata": {},
   "source": [
    "# Applications"
   ]
  },
  {
   "cell_type": "markdown",
   "metadata": {},
   "source": [
    "## Star Predicition"
   ]
  },
  {
   "cell_type": "code",
   "execution_count": 1,
   "metadata": {
    "collapsed": false
   },
   "outputs": [],
   "source": [
    "from services import DataReader\n",
    "from star_prediction import StarPredictor"
   ]
  },
  {
   "cell_type": "code",
   "execution_count": 2,
   "metadata": {
    "collapsed": false
   },
   "outputs": [],
   "source": [
    "reviews = DataReader().reviews()"
   ]
  },
  {
   "cell_type": "code",
   "execution_count": 3,
   "metadata": {
    "collapsed": false
   },
   "outputs": [],
   "source": [
    "star_predictor = StarPredictor()\n",
    "star_predictor.load()"
   ]
  },
  {
   "cell_type": "markdown",
   "metadata": {},
   "source": [
    "let's check the accuracy of random reviews"
   ]
  },
  {
   "cell_type": "code",
   "execution_count": 4,
   "metadata": {
    "collapsed": false
   },
   "outputs": [
    {
     "data": {
      "text/plain": [
       "'Mr Hoagie is an institution. Walking in, it does seem like a throwback to 30 years ago, old fashioned menu board, booths out of the 70s, and a large selection of food. Their speciality is the Italian Hoagie, and it is voted the best in the area year after year. I usually order the burger, while the patties are obviously cooked from frozen, all of the other ingredients are very fresh. Overall, its a good alternative to Subway, which is down the road.'"
      ]
     },
     "execution_count": 4,
     "metadata": {},
     "output_type": "execute_result"
    }
   ],
   "source": [
    "reviews[0].text"
   ]
  },
  {
   "cell_type": "code",
   "execution_count": 5,
   "metadata": {
    "collapsed": false
   },
   "outputs": [
    {
     "data": {
      "text/plain": [
       "4"
      ]
     },
     "execution_count": 5,
     "metadata": {},
     "output_type": "execute_result"
    }
   ],
   "source": [
    "reviews[0].star"
   ]
  },
  {
   "cell_type": "code",
   "execution_count": 6,
   "metadata": {
    "collapsed": false
   },
   "outputs": [
    {
     "data": {
      "text/plain": [
       "array([4])"
      ]
     },
     "execution_count": 6,
     "metadata": {},
     "output_type": "execute_result"
    }
   ],
   "source": [
    "star_predictor.predict(reviews[0])"
   ]
  },
  {
   "cell_type": "markdown",
   "metadata": {},
   "source": [
    "---------------------------------"
   ]
  },
  {
   "cell_type": "code",
   "execution_count": 14,
   "metadata": {
    "collapsed": false
   },
   "outputs": [
    {
     "data": {
      "text/plain": [
       "\"I like this course. It's always very well maintained. The carts are in excellent shape, all electric and all equipped with GPS. The greens fees are extremely reasonable and many of the holes are challenging, even if you are a better golfer. It truly has a grand view up and down the Mon, from the Triangle and the Cathedral of Learning to Braddock, the Edgar Thompson Works, Kennywood and beyond. Yet, when you go a few more feet on the cart path, you are in the woods, alone with the abundant wildlife. One caveat- bring an abundant supply of balls. If you golf like I do, one sleeve will not be enough!\""
      ]
     },
     "execution_count": 14,
     "metadata": {},
     "output_type": "execute_result"
    }
   ],
   "source": [
    "reviews[42].text"
   ]
  },
  {
   "cell_type": "code",
   "execution_count": 15,
   "metadata": {
    "collapsed": false
   },
   "outputs": [
    {
     "data": {
      "text/plain": [
       "5"
      ]
     },
     "execution_count": 15,
     "metadata": {},
     "output_type": "execute_result"
    }
   ],
   "source": [
    "reviews[42].star"
   ]
  },
  {
   "cell_type": "code",
   "execution_count": 16,
   "metadata": {
    "collapsed": false
   },
   "outputs": [
    {
     "data": {
      "text/plain": [
       "5"
      ]
     },
     "execution_count": 16,
     "metadata": {},
     "output_type": "execute_result"
    }
   ],
   "source": [
    "star_predictor.predict(reviews[42])[0]"
   ]
  },
  {
   "cell_type": "markdown",
   "metadata": {},
   "source": [
    "-----------------------------"
   ]
  },
  {
   "cell_type": "code",
   "execution_count": 21,
   "metadata": {
    "collapsed": false
   },
   "outputs": [
    {
     "data": {
      "text/plain": [
       "'This is one of my favorite places to eat, bkfast, lunch and dinner. staff super friendly, food always great. I have gotten to different Dennys locations but Dennys on Trop and Decatur always the BEST!! \\nJuan is a great employee, always smiling, always making sure our table is taken care of. Thank you to all the cooks! food always amazing.'"
      ]
     },
     "execution_count": 21,
     "metadata": {},
     "output_type": "execute_result"
    }
   ],
   "source": [
    "reviews[456456].text"
   ]
  },
  {
   "cell_type": "code",
   "execution_count": 22,
   "metadata": {
    "collapsed": false
   },
   "outputs": [
    {
     "data": {
      "text/plain": [
       "5"
      ]
     },
     "execution_count": 22,
     "metadata": {},
     "output_type": "execute_result"
    }
   ],
   "source": [
    "reviews[456456].star"
   ]
  },
  {
   "cell_type": "code",
   "execution_count": 23,
   "metadata": {
    "collapsed": false
   },
   "outputs": [
    {
     "data": {
      "text/plain": [
       "5"
      ]
     },
     "execution_count": 23,
     "metadata": {},
     "output_type": "execute_result"
    }
   ],
   "source": [
    "star_predictor.predict(reviews[456456])[0]"
   ]
  },
  {
   "cell_type": "markdown",
   "metadata": {},
   "source": [
    "Let's use real reviews"
   ]
  },
  {
   "cell_type": "markdown",
   "metadata": {},
   "source": [
    "<span class=\"yelp-review\" data-review-id=\"oWHkgqveqtHHzPY5LJ14WQ\" data-hostname=\"www.yelp.com\">Read <a href=\"https://www.yelp.com/user_details?userid=vNkhTRxSnpLUYi0zRSt30Q\" rel=\"nofollow noopener\">Jason B.</a>'s <a href=\"https://www.yelp.com/biz/karak%C3%B6y-g%C3%BCll%C3%BCo%C4%9Flu-istanbul-4?hrid=oWHkgqveqtHHzPY5LJ14WQ\" rel=\"nofollow noopener\">review</a> of <a href=\"https://www.yelp.com/biz/qhtkzZziFTQqYsA5JySkyA\" rel=\"nofollow noopener\">Karaköy Güllüoğlu</a> on <a href=\"https://www.yelp.com\" rel=\"nofollow noopener\">Yelp</a><script async=\"async\" src=\"https://www.yelp.com/embed/widgets.js\" type=\"text/javascript\"></script></span>"
   ]
  },
  {
   "cell_type": "markdown",
   "metadata": {},
   "source": [
    "It is 5 star review"
   ]
  },
  {
   "cell_type": "code",
   "execution_count": 25,
   "metadata": {
    "collapsed": true
   },
   "outputs": [],
   "source": [
    "text = '''it's a shade far from Taksim Square but go early in your trip to Istanbul. just shut up, listen to me and go go go go go! \n",
    "\n",
    "This place possibly changed my life. They taste like tears of angels. I can't describe what emotions these tiny pieces of baklava evoke but pray for me. This place stood out on Yelp and I wasn't planning on going until a random ferry ride I took unexpectedly brought me to this part of town. This is supposed to be THE place to get baklava and one of the oldest establishments here. The other placements I've been to are ok but these have extra crack in them I think. I thought these originated in Greece but it's great how much it won't bother me as I'll consume them just fine. SUPER friendly folks. While fulfilling my order the guy offers me the one on the bottom left.\n",
    "CHOCOLATE. My mind exploded a little in my skull. It's like only knowing vanilla ice cream your whole life then one day someone gives you chocolate ice cream. It's not chocolate dipped but the dough actually has chocolate incorporated into it. I've seen heaven? \n",
    "\n",
    "You go early bc you'll want more later in the week.'''"
   ]
  },
  {
   "cell_type": "code",
   "execution_count": 10,
   "metadata": {
    "collapsed": true
   },
   "outputs": [],
   "source": [
    "from models import Review"
   ]
  },
  {
   "cell_type": "code",
   "execution_count": 27,
   "metadata": {
    "collapsed": true
   },
   "outputs": [],
   "source": [
    "r = Review()\n",
    "r.text = text"
   ]
  },
  {
   "cell_type": "code",
   "execution_count": 28,
   "metadata": {
    "collapsed": false
   },
   "outputs": [
    {
     "data": {
      "text/plain": [
       "5"
      ]
     },
     "execution_count": 28,
     "metadata": {},
     "output_type": "execute_result"
    }
   ],
   "source": [
    "star_predictor.predict(r)[0]"
   ]
  },
  {
   "cell_type": "markdown",
   "metadata": {},
   "source": [
    "------------"
   ]
  },
  {
   "cell_type": "markdown",
   "metadata": {},
   "source": [
    "<span class=\"yelp-review\" data-review-id=\"UKCvsm18BiElF02hIethuQ\" data-hostname=\"www.yelp.com\">Read <a href=\"https://www.yelp.com/user_details?userid=kxnL35QKywrrPlSUQoknRA\" rel=\"nofollow noopener\">Wendy B.</a>'s <a href=\"https://www.yelp.com/biz/nusr-et-istanbul?hrid=UKCvsm18BiElF02hIethuQ\" rel=\"nofollow noopener\">review</a> of <a href=\"https://www.yelp.com/biz/8-syTEQSTNAmk6jzyrWLeQ\" rel=\"nofollow noopener\">Nusr.Et</a> on <a href=\"https://www.yelp.com\" rel=\"nofollow noopener\">Yelp</a><script async=\"async\" src=\"https://www.yelp.com/embed/widgets.js\" type=\"text/javascript\"></script></span>"
   ]
  },
  {
   "cell_type": "markdown",
   "metadata": {},
   "source": [
    "It is 5 star review (of course)"
   ]
  },
  {
   "cell_type": "code",
   "execution_count": 32,
   "metadata": {
    "collapsed": true
   },
   "outputs": [],
   "source": [
    "text = '''A flight of meat consisting of dry aged delectable organic halal meat that is mind blowing \n",
    "is a must while visiting Istanbul.  The meat melts in your mouth.  You cannot go wrong with any cut\n",
    "including meat sushi and ribs.  The founder was a butcher who now delights his guest with the finest \n",
    "cuts from well treated cattle and then wows his guests with exquisite presentation and flavor.  \n",
    "I applaud you, Nusret.  Your name is evident this restaurant was your fate as \"et\" means meat!'''"
   ]
  },
  {
   "cell_type": "code",
   "execution_count": 33,
   "metadata": {
    "collapsed": true
   },
   "outputs": [],
   "source": [
    "r = Review()\n",
    "r.text = text"
   ]
  },
  {
   "cell_type": "code",
   "execution_count": 34,
   "metadata": {
    "collapsed": false
   },
   "outputs": [
    {
     "data": {
      "text/plain": [
       "5"
      ]
     },
     "execution_count": 34,
     "metadata": {},
     "output_type": "execute_result"
    }
   ],
   "source": [
    "star_predictor.predict(r)[0]"
   ]
  },
  {
   "cell_type": "markdown",
   "metadata": {},
   "source": [
    "--------"
   ]
  },
  {
   "cell_type": "code",
   "execution_count": 36,
   "metadata": {
    "collapsed": false
   },
   "outputs": [
    {
     "data": {
      "text/plain": [
       "'Normally, I do not do reviews of an establishment unless the rating is exceptionally great or exceptionally bad.  If I had not felt sucker punched and mugged after I left Mr. Hoagie, I would not be writing this bad review.  On my first and last trip there, I paid $24.59 for two whole hoagies.  \\n\\n1) The Italian (ordered because the woman (she) working there told me it was their most popular hoagie) I ordered with lettuce and onions (no tomato, italian dressing which all come free with the hoagie).  I had to pay $1 to add cheese to the hoagie.  Because I was traveling and would not be eating the hoagie right away, I asked for the italian on the side.  She told me there was a charge for the dressing on the side.  I passed on that on principle.  Are you kidding me?  I just saved her money by declining the tomato.  I was not going to pay for the dressing on the side.  At this point, I am certain something is not right and this place appears to me to be in financial trouble.  That pales in comparison to what happened next.  I opened the hoagie and there were three microscopically thin slices of meat on this hoagie.  Ham, salami, and bologna.  Bologna!?!?!?!?    Who in the hell puts disgusting bologna on an Italian hoagie?  That disqualifies that hoagie as an Italian.  The red flags indicating this place is in financial trouble are blinding my view.  One area of this hoagie only had one slice of bologna, no ham and no salami.\\n\\n2)  The Steak hoagie came with nothing on it but lettuce, tomato, onions, and dressing.  I ordered it without lettuce, tomato, onions, or dressing.  I asked for mayo on the side.  I had to pay for that so I declined.  Are you kidding me?  I just saved them money by passing on the lettuce, tomato, fresh onions, and dressing!  I paid $3 to add sautéed mushrooms, onions, and cheese.  Here we go again.  Canned mushrooms that were not even cooked through (were still cold) and onions that were still crunchy/undercooked.  News flash:  you need to serve fresh mushrooms that have been sautéed (canned mushrooms are another sign this place is in financial trouble).  I literally had to open the hoagie to find the steak because I could not taste or see it.  The hoagie was 50% mushrooms, 30%onions, 10% cheese and 10% steak.\\n\\nI could have personally made 10 whole hoagies with substantial quality ingredients and toppings for the $24.59 I paid for these two whole hoagies.  I intentionally patronize non-chain restaurants to support small businesses.  In this case, Never. Again.  (The hoagie bun was better than average.)  Wake up or you are going to lose your business.'"
      ]
     },
     "execution_count": 36,
     "metadata": {},
     "output_type": "execute_result"
    }
   ],
   "source": [
    "reviews[5].text"
   ]
  },
  {
   "cell_type": "code",
   "execution_count": 37,
   "metadata": {
    "collapsed": false
   },
   "outputs": [
    {
     "data": {
      "text/plain": [
       "1"
      ]
     },
     "execution_count": 37,
     "metadata": {},
     "output_type": "execute_result"
    }
   ],
   "source": [
    "reviews[5].star"
   ]
  },
  {
   "cell_type": "code",
   "execution_count": 38,
   "metadata": {
    "collapsed": false
   },
   "outputs": [
    {
     "data": {
      "text/plain": [
       "1"
      ]
     },
     "execution_count": 38,
     "metadata": {},
     "output_type": "execute_result"
    }
   ],
   "source": [
    "star_predictor.predict(reviews[5])[0]"
   ]
  },
  {
   "cell_type": "markdown",
   "metadata": {},
   "source": [
    "# Trend Prediction"
   ]
  },
  {
   "cell_type": "code",
   "execution_count": 3,
   "metadata": {
    "collapsed": false
   },
   "outputs": [],
   "source": [
    "businesses = [i for i in DataReader().businesses() if len(i.reviews) > 500]"
   ]
  },
  {
   "cell_type": "code",
   "execution_count": 4,
   "metadata": {
    "collapsed": true
   },
   "outputs": [],
   "source": [
    "%matplotlib inline"
   ]
  },
  {
   "cell_type": "markdown",
   "metadata": {},
   "source": [
    "lets draw trend of some restorant"
   ]
  },
  {
   "cell_type": "code",
   "execution_count": 5,
   "metadata": {
    "collapsed": false
   },
   "outputs": [
    {
     "data": {
      "text/plain": [
       "<matplotlib.axes._subplots.AxesSubplot at 0x7f0635784550>"
      ]
     },
     "execution_count": 5,
     "metadata": {},
     "output_type": "execute_result"
    },
    {
     "data": {
      "image/png": "[encoded data removed]",
      "text/plain": [
       "<matplotlib.figure.Figure at 0x7f06f521e8d0>"
      ]
     },
     "metadata": {},
     "output_type": "display_data"
    }
   ],
   "source": [
    "businesses[10].fit_rolling_time_series()\n",
    "businesses[10].rolling_time_series_.plot(ylim=(1, 5))"
   ]
  },
  {
   "cell_type": "code",
   "execution_count": 6,
   "metadata": {
    "collapsed": false
   },
   "outputs": [
    {
     "data": {
      "text/plain": [
       "<matplotlib.axes._subplots.AxesSubplot at 0x7f063578a828>"
      ]
     },
     "execution_count": 6,
     "metadata": {},
     "output_type": "execute_result"
    },
    {
     "data": {
      "image/png": "[encoded data removed]",
      "text/plain": [
       "<matplotlib.figure.Figure at 0x7f06a16b4b00>"
      ]
     },
     "metadata": {},
     "output_type": "display_data"
    }
   ],
   "source": [
    "businesses[345].fit_rolling_time_series()\n",
    "businesses[345].rolling_time_series_.plot(ylim=(1, 5))"
   ]
  },
  {
   "cell_type": "code",
   "execution_count": 8,
   "metadata": {
    "collapsed": false
   },
   "outputs": [
    {
     "data": {
      "text/plain": [
       "<matplotlib.axes._subplots.AxesSubplot at 0x7f069d8390b8>"
      ]
     },
     "execution_count": 8,
     "metadata": {},
     "output_type": "execute_result"
    },
    {
     "data": {
      "image/png": "[encoded data removed]",
      "text/plain": [
       "<matplotlib.figure.Figure at 0x7f069e056400>"
      ]
     },
     "metadata": {},
     "output_type": "display_data"
    }
   ],
   "source": [
    "businesses[122].fit_rolling_time_series()\n",
    "businesses[122].rolling_time_series_.plot(ylim=(1, 5))"
   ]
  },
  {
   "cell_type": "markdown",
   "metadata": {},
   "source": [
    "let predict future trand"
   ]
  },
  {
   "cell_type": "code",
   "execution_count": 10,
   "metadata": {
    "collapsed": false
   },
   "outputs": [
    {
     "data": {
      "text/plain": [
       "2016-02-04    3.771232\n",
       "2016-03-05    3.799010\n",
       "2016-04-04    3.741003\n",
       "2016-05-04    3.832456\n",
       "2016-06-03    3.862821\n",
       "2016-07-03    3.943703\n",
       "Freq: 30D, dtype: float64"
      ]
     },
     "execution_count": 10,
     "metadata": {},
     "output_type": "execute_result"
    }
   ],
   "source": [
    "businesses[122].rolling_time_series_[-6:]"
   ]
  },
  {
   "cell_type": "code",
   "execution_count": 11,
   "metadata": {
    "collapsed": true
   },
   "outputs": [],
   "source": [
    "from trend_prediction import TrendPredictor"
   ]
  },
  {
   "cell_type": "code",
   "execution_count": 13,
   "metadata": {
    "collapsed": true
   },
   "outputs": [],
   "source": [
    "trend_predictor = TrendPredictor()\n",
    "trend_predictor.load()"
   ]
  },
  {
   "cell_type": "code",
   "execution_count": 14,
   "metadata": {
    "collapsed": true
   },
   "outputs": [],
   "source": [
    "last_6_month = businesses[122].rolling_time_series_[-6:]"
   ]
  },
  {
   "cell_type": "code",
   "execution_count": 17,
   "metadata": {
    "collapsed": false
   },
   "outputs": [
    {
     "data": {
      "text/plain": [
       "\"It's trend in next month is: 3.95900572528\""
      ]
     },
     "execution_count": 17,
     "metadata": {},
     "output_type": "execute_result"
    }
   ],
   "source": [
    "\"It's score in next month is: %s\" % trend_predictor.predict([last_6_month])[0]"
   ]
  },
  {
   "cell_type": "markdown",
   "metadata": {},
   "source": [
    "let check it for another case"
   ]
  },
  {
   "cell_type": "code",
   "execution_count": 21,
   "metadata": {
    "collapsed": false
   },
   "outputs": [
    {
     "data": {
      "text/plain": [
       "<matplotlib.axes._subplots.AxesSubplot at 0x7f0634f6c780>"
      ]
     },
     "execution_count": 21,
     "metadata": {},
     "output_type": "execute_result"
    },
    {
     "data": {
      "image/png": "[encoded data removed]",
      "text/plain": [
       "<matplotlib.figure.Figure at 0x7f0634fd10b8>"
      ]
     },
     "metadata": {},
     "output_type": "display_data"
    }
   ],
   "source": [
    "businesses[100].fit_rolling_time_series()\n",
    "businesses[100].rolling_time_series_.plot(ylim=(1, 5))"
   ]
  },
  {
   "cell_type": "code",
   "execution_count": 23,
   "metadata": {
    "collapsed": false
   },
   "outputs": [
    {
     "data": {
      "text/plain": [
       "\"It's score in next month is: 2.53615211065\""
      ]
     },
     "execution_count": 23,
     "metadata": {},
     "output_type": "execute_result"
    }
   ],
   "source": [
    "last_6_month = businesses[100].rolling_time_series_[-6:]\n",
    "\"It's score in next month is: %s\" % trend_predictor.predict([last_6_month])[0]"
   ]
  },
  {
   "cell_type": "code",
   "execution_count": 24,
   "metadata": {
    "collapsed": false
   },
   "outputs": [
    {
     "data": {
      "text/plain": [
       "<matplotlib.axes._subplots.AxesSubplot at 0x7f0634f62c50>"
      ]
     },
     "execution_count": 24,
     "metadata": {},
     "output_type": "execute_result"
    },
    {
     "data": {
      "image/png": "[encoded data removed]",
      "text/plain": [
       "<matplotlib.figure.Figure at 0x7f064d0cd048>"
      ]
     },
     "metadata": {},
     "output_type": "display_data"
    }
   ],
   "source": [
    "businesses[56].fit_rolling_time_series()\n",
    "businesses[56].rolling_time_series_.plot(ylim=(1, 5))"
   ]
  },
  {
   "cell_type": "code",
   "execution_count": 31,
   "metadata": {
    "collapsed": false
   },
   "outputs": [
    {
     "data": {
      "text/plain": [
       "2015-02-18    2.301197\n",
       "2015-03-20    2.341987\n",
       "2015-04-19    2.554405\n",
       "2015-05-19    2.736223\n",
       "2015-06-18    3.174495\n",
       "2015-07-18    3.197222\n",
       "Freq: 30D, dtype: float64"
      ]
     },
     "execution_count": 31,
     "metadata": {},
     "output_type": "execute_result"
    }
   ],
   "source": [
    "businesses[56].rolling_time_series_[-13:-7]"
   ]
  },
  {
   "cell_type": "code",
   "execution_count": 30,
   "metadata": {
    "collapsed": false
   },
   "outputs": [
    {
     "data": {
      "text/plain": [
       "\"It's score in next month is: 3.25051225708\""
      ]
     },
     "execution_count": 30,
     "metadata": {},
     "output_type": "execute_result"
    }
   ],
   "source": [
    "last_6_month = businesses[56].rolling_time_series_[-13:-7]\n",
    "\"It's score in next month is: %s\" % trend_predictor.predict([last_6_month])[0]"
   ]
  },
  {
   "cell_type": "markdown",
   "metadata": {},
   "source": [
    "That means the company is going well and its star will continue to increase"
   ]
  },
  {
   "cell_type": "markdown",
   "metadata": {},
   "source": [
    "# Topic Difusion"
   ]
  },
  {
   "cell_type": "code",
   "execution_count": 61,
   "metadata": {
    "collapsed": true
   },
   "outputs": [],
   "source": [
    "from topics import TopicPredictor"
   ]
  },
  {
   "cell_type": "code",
   "execution_count": 62,
   "metadata": {
    "collapsed": true
   },
   "outputs": [],
   "source": [
    "topic_predictor = TopicPredictor()"
   ]
  },
  {
   "cell_type": "markdown",
   "metadata": {},
   "source": [
    "Previous company is interesting case thus let check what happened"
   ]
  },
  {
   "cell_type": "markdown",
   "metadata": {},
   "source": [
    "Let firstly check general topic"
   ]
  },
  {
   "cell_type": "code",
   "execution_count": 49,
   "metadata": {
    "collapsed": false
   },
   "outputs": [
    {
     "data": {
      "text/plain": [
       "['grandmother lingering sadness',\n",
       " 'room hotel like',\n",
       " 'ny room shitty',\n",
       " 'hotel manager didn',\n",
       " 'place stay room',\n",
       " 'hotel room changing',\n",
       " 'girls crazy penny',\n",
       " 'hotel just place',\n",
       " 'buffet room free',\n",
       " 'hotel room minus']"
      ]
     },
     "execution_count": 49,
     "metadata": {},
     "output_type": "execute_result"
    }
   ],
   "source": [
    "topic_predictor.topics(businesses[56].reviews)"
   ]
  },
  {
   "cell_type": "markdown",
   "metadata": {},
   "source": [
    "I think there is problem about hotel rooms"
   ]
  },
  {
   "cell_type": "markdown",
   "metadata": {},
   "source": [
    "Thus let check what happened after 2015 and it's accuracy increase"
   ]
  },
  {
   "cell_type": "code",
   "execution_count": 64,
   "metadata": {
    "collapsed": true
   },
   "outputs": [],
   "source": [
    "from datetime import datetime"
   ]
  },
  {
   "cell_type": "code",
   "execution_count": 73,
   "metadata": {
    "collapsed": false
   },
   "outputs": [],
   "source": [
    "start_data = datetime.strptime('2015-1-1', '%Y-%m-%d')\n",
    "end_data = datetime.strptime('2016-1-1', '%Y-%m-%d')"
   ]
  },
  {
   "cell_type": "code",
   "execution_count": 74,
   "metadata": {
    "collapsed": false
   },
   "outputs": [],
   "source": [
    "review_between = [r for r in businesses[56].reviews if start_data < datetime.strptime(r.date, '%Y-%m-%d') < end_data]"
   ]
  },
  {
   "cell_type": "code",
   "execution_count": 77,
   "metadata": {
    "collapsed": false
   },
   "outputs": [
    {
     "data": {
      "text/plain": [
       "['strip really north',\n",
       " 'riviera place vegas',\n",
       " 'rooms badly wasn',\n",
       " 'great sad casino',\n",
       " 'hotel casino nice',\n",
       " 'gotta ve carpets',\n",
       " 'room hotel vegas',\n",
       " 'say worst com',\n",
       " 'vegas las old',\n",
       " 'room hotel bad']"
      ]
     },
     "execution_count": 77,
     "metadata": {},
     "output_type": "execute_result"
    }
   ],
   "source": [
    "topic_predictor.topics(review_between)"
   ]
  },
  {
   "cell_type": "markdown",
   "metadata": {},
   "source": [
    "May be it's about casino which appear in topic and may be hotel updates it's rooms "
   ]
  },
  {
   "cell_type": "code",
   "execution_count": 18,
   "metadata": {
    "collapsed": false
   },
   "outputs": [
    {
     "data": {
      "text/plain": [
       "array([5])"
      ]
     },
     "execution_count": 18,
     "metadata": {},
     "output_type": "execute_result"
    }
   ],
   "source": [
    "r = Review()\n",
    "r.text = ''' I absolutely love this place! Best steak I've ever had in my own country. You can try other steak houses but this is the one that you'll dream about.\n",
    "\n",
    "The atmosphere and the service are top notch, location is perfect. The waiters are a little mean and very direct but it's ok, thats the way I like it. \n",
    "\n",
    "The food....? Omfg!\n",
    "\n",
    "Try their variety-meat package and definitely try \"goat salad\". Crispy-lamb-tail-fat on sliced meatloaf is just HEAVEN!!! (check out the pic I uploaded) You will have those babies when you order variety package. \n",
    "\n",
    "Try their rich selection of Turkish red wines. My fave one is any \"Corvus\" brand red wines.\n",
    "\n",
    "This is not a typical steak house or great steak restaurant. This is an art & design house in steak restaurant business. They are very creative and extraordinary with their style. \n",
    "\n",
    "Things to be careful!! : When I asked for the menu, the waiter acted like he heard something funny and he said \"oh we don't have a menu here\" \"we serve you salad and then we'll bring you different courses of beef and lamb till you tell us to stop. They don't like to tell you prices. (this is completely wrong! they have to inform you about how much you'll pay..\n",
    "\n",
    "You will easily spend around 250Lira which is $120 per person (as of 2014) but it's definitely worth it!\n",
    "\n",
    "Satisfaction guaranteed! You will absolutely love this gorgeous place! '''\n",
    "star_predictor.predict(r)"
   ]
  },
  {
   "cell_type": "code",
   "execution_count": null,
   "metadata": {
    "collapsed": true
   },
   "outputs": [],
   "source": []
  }
 ],
 "metadata": {
  "kernelspec": {
   "display_name": "Python 3",
   "language": "python",
   "name": "python3"
  },
  "language_info": {
   "codemirror_mode": {
    "name": "ipython",
    "version": 3
   },
   "file_extension": ".py",
   "mimetype": "text/x-python",
   "name": "python",
   "nbconvert_exporter": "python",
   "pygments_lexer": "ipython3",
   "version": "3.5.2"
  }
 },
 "nbformat": 4,
 "nbformat_minor": 2
}
